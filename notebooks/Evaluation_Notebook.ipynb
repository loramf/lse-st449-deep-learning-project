{
  "nbformat": 4,
  "nbformat_minor": 0,
  "metadata": {
    "colab": {
      "name": "ST449 Evaluation.ipynb",
      "provenance": [],
      "machine_shape": "hm"
    },
    "kernelspec": {
      "name": "python3",
      "display_name": "Python 3"
    }
  },
  "cells": [
    {
      "cell_type": "markdown",
      "metadata": {
        "id": "yjVKnwvbI1Ay",
        "colab_type": "text"
      },
      "source": [
        "# Evaluation Notebook\n",
        "\n",
        "This notebook shows how all the evaluation metrics were calculated. To run it one must import the 'evaluation_functions.py' as it contains all the metric functions.\n",
        "\n",
        "Set up Google colab & download data"
      ]
    },
    {
      "cell_type": "code",
      "metadata": {
        "id": "P5SV7ydqVLia",
        "colab_type": "code",
        "colab": {}
      },
      "source": [
        "import tensorflow as tf\n",
        "import tensorflow.keras as keras\n",
        "\n",
        "import numpy as np\n",
        "import pandas as pd\n",
        "import matplotlib.pyplot as plt\n",
        "import random\n",
        "\n",
        "from sklearn.preprocessing import OneHotEncoder\n",
        "from sklearn.model_selection import train_test_split\n",
        "\n",
        "import time\n",
        "import pickle\n",
        "\n",
        "from sklearn.ensemble import RandomForestClassifier\n",
        "from sklearn.linear_model import LogisticRegression\n",
        "from sklearn.metrics.classification import accuracy_score\n",
        "from sklearn.metrics import mean_squared_error\n",
        "from sklearn.utils.testing import ignore_warnings\n",
        "from sklearn.exceptions import ConvergenceWarning"
      ],
      "execution_count": 0,
      "outputs": []
    },
    {
      "cell_type": "code",
      "metadata": {
        "id": "Bi3diCkYT_Hk",
        "colab_type": "code",
        "colab": {}
      },
      "source": [
        "!pip install -U -q PyDrive\n",
        "from pydrive.auth import GoogleAuth\n",
        "from pydrive.drive import GoogleDrive\n",
        "from google.colab import auth\n",
        "from oauth2client.client import GoogleCredentials# Authenticate and create the PyDrive client.\n",
        "auth.authenticate_user()\n",
        "gauth = GoogleAuth()\n",
        "gauth.credentials = GoogleCredentials.get_application_default()\n",
        "drive = GoogleDrive(gauth)"
      ],
      "execution_count": 0,
      "outputs": []
    },
    {
      "cell_type": "code",
      "metadata": {
        "id": "Zjn9qAXAUCyp",
        "colab_type": "code",
        "colab": {}
      },
      "source": [
        "downloaded = drive.CreateFile({'id':'1VuZGdAGxGDwQT10sg9z4sPvlFk0Xmupq'}) \n",
        "downloaded.GetContentFile('sim_av_tumour.csv')  \n",
        "df = pd.read_csv('sim_av_tumour.csv',dtype=str)"
      ],
      "execution_count": 0,
      "outputs": []
    },
    {
      "cell_type": "code",
      "metadata": {
        "id": "VaWITzLGUX16",
        "colab_type": "code",
        "colab": {}
      },
      "source": [
        "#import packages\n",
        "from google.colab import files\n",
        "files.upload()"
      ],
      "execution_count": 0,
      "outputs": []
    },
    {
      "cell_type": "code",
      "metadata": {
        "id": "aF0t2SshUiU3",
        "colab_type": "code",
        "colab": {}
      },
      "source": [
        "#set the drive to save outputs\n",
        "from google.colab import drive\n",
        "drive.mount('/content/drive', force_remount=True)"
      ],
      "execution_count": 0,
      "outputs": []
    },
    {
      "cell_type": "markdown",
      "metadata": {
        "id": "Gppsq0e3JE_H",
        "colab_type": "text"
      },
      "source": [
        "### Data Preparation"
      ]
    },
    {
      "cell_type": "code",
      "metadata": {
        "id": "0UTWjEIYJAs5",
        "colab_type": "code",
        "colab": {}
      },
      "source": [
        "from models import Generator, Discriminator, cGenerator, MultiCategorical, CategoricalActivation\n",
        "from evaluation_functions import gen_output, get_accuracy_metrics, compare_accuracy, probability_lists, compare_probs, compare_within_site_probs"
      ],
      "execution_count": 0,
      "outputs": []
    },
    {
      "cell_type": "code",
      "metadata": {
        "id": "2TFakQ-LUtmz",
        "colab_type": "code",
        "colab": {}
      },
      "source": [
        "np.random.seed(123)\n",
        "test_df = df.drop(['TUMOURID', 'PATIENTID', 'DIAGNOSISDATEBEST', 'LINKNUMBER', 'DATE_FIRST_SURGERY'], axis=1).iloc[np.random.permutation(len(df))].iloc[:round(len(df)*0.2)]\n",
        "test_df[test_df.isna()]= \"NA\"\n",
        "X_train, X_test = train_test_split(test_df, test_size=0.1, random_state=42)"
      ],
      "execution_count": 0,
      "outputs": []
    },
    {
      "cell_type": "code",
      "metadata": {
        "id": "Wi_j5k5jXDBW",
        "colab_type": "code",
        "outputId": "60eaf5b0-1229-438e-8bfe-31d09baa66ad",
        "colab": {
          "base_uri": "https://localhost:8080/",
          "height": 54
        }
      },
      "source": [
        "print(len(X_train))\n",
        "len(X_test)"
      ],
      "execution_count": 0,
      "outputs": [
        {
          "output_type": "stream",
          "text": [
            "252506\n"
          ],
          "name": "stdout"
        },
        {
          "output_type": "execute_result",
          "data": {
            "text/plain": [
              "28057"
            ]
          },
          "metadata": {
            "tags": []
          },
          "execution_count": 8
        }
      ]
    },
    {
      "cell_type": "code",
      "metadata": {
        "id": "83yoY-KeAyHZ",
        "colab_type": "code",
        "outputId": "1b226b46-e013-4b58-9fe0-a54cb780eb46",
        "colab": {
          "base_uri": "https://localhost:8080/",
          "height": 91
        }
      },
      "source": [
        "ohe = OneHotEncoder(sparse=False)\n",
        "ohe.fit(X_train)\n",
        "ohe_df = ohe.transform(X_train)\n",
        "\n",
        "variable_sizes = [len(X_train[column].unique()) for column in X_train.columns]\n",
        "print(\"X train variable sizes:\")\n",
        "print(variable_sizes)\n",
        "\n",
        "#remove rows that contain values that do not occur in X_train\n",
        "for column in X_test.columns:\n",
        "  X_test = X_test[X_test[column].isin(X_train[column].unique())]\n",
        "print(\"X test variable sizes:\")\n",
        "print([len(X_test[column].unique()) for column in X_test.columns])"
      ],
      "execution_count": 0,
      "outputs": [
        {
          "output_type": "stream",
          "text": [
            "X train variable sizes:\n",
            "[526, 116, 405, 9, 40, 18, 8, 35, 8, 6, 100, 2, 8, 33, 7, 10, 7, 10, 6, 7, 11, 13, 9, 6, 6, 4, 8, 7, 5]\n",
            "X test variable sizes:\n",
            "[412, 111, 294, 9, 33, 16, 7, 33, 7, 6, 99, 2, 8, 23, 7, 9, 7, 9, 6, 7, 11, 11, 9, 5, 5, 4, 7, 7, 5]\n"
          ],
          "name": "stdout"
        }
      ]
    },
    {
      "cell_type": "code",
      "metadata": {
        "id": "WUxGIzYE-B27",
        "colab_type": "code",
        "colab": {}
      },
      "source": [
        "#D size = 1\n",
        "learning_rate = 1e-4\n",
        "temperature = 1/3\n",
        "\n",
        "G = Generator([100,100,100], temperature, variable_sizes[1:], conditional=True)\n",
        "\n",
        "G_optimizer = tf.keras.optimizers.Adam(learning_rate, name = \"g_optimiser\")\n",
        "D_optimizer = tf.keras.optimizers.Adam(learning_rate, name = \"d_optimiser\")\n",
        "\n",
        "path = '/content/drive/My Drive/ST449 Project/checkpoints/c-wgan-3/'\n",
        "ckpt_G = tf.train.Checkpoint(step=tf.Variable(1), optimizer=G_optimizer, net=G)\n",
        "manager_G = tf.train.CheckpointManager(ckpt_G, path + 'G', max_to_keep=None)\n",
        "\n",
        "\n",
        "ckpt_G.restore(manager_G.latest_checkpoint)\n",
        "#sample = pd.DataFrame(gen_output(G, X_test.shape[0], 100, ohe, X_test, conditional=True, site = 'C44'))\n",
        "sample = pd.DataFrame(gen_output(G, X_test.shape[0], 100, ohe, X_test, conditional=True))"
      ],
      "execution_count": 0,
      "outputs": []
    },
    {
      "cell_type": "code",
      "metadata": {
        "id": "YdYdRPuYjFS8",
        "colab_type": "code",
        "outputId": "06ab737b-aeae-46e3-94d6-3c2559b31c0b",
        "colab": {
          "base_uri": "https://localhost:8080/",
          "height": 36
        }
      },
      "source": [
        "#Vanilla GAN \n",
        "#1 Discriminator Hidden Layer\n",
        "#3 places to specify GAN name\n",
        "import pandas as pd\n",
        "vanilla1_samples = get_samples(Generator, variable_sizes, conditional = False, checkpoint_name='vanilla-4/', repress_warnings = True)\n",
        "\n",
        "mse_p_av = []\n",
        "mse_within_p_av = []\n",
        "mse_lr_av = []\n",
        "mse_rf_av = []\n",
        "num_samples = 0\n",
        "\n",
        "for i, sample in enumerate(vanilla1_samples):\n",
        "  mse_p, sample_column_probs, test_column_probs = compare_probs(sample, X_test)\n",
        "  mse_within_p, mse_list, sample_sizes, test_sizes, cancer_types = compare_within_site_probs(sample, X_test, conditional = False) \n",
        "  mse_lr, mse_rf, lr_sample, lr_x_test, rf_sample, rf_x_test = compare_accuracy(sample, X_test)\n",
        "\n",
        "  mse_p_av.append(mse_p)\n",
        "  mse_within_p_av.append(mse_within_p)\n",
        "  mse_lr_av.append(mse_lr)\n",
        "  mse_rf_av.append(mse_rf)\n",
        "  num_samples += 1\n",
        "\n",
        "\n",
        "vanilla1 = {'mse': [mse_p_av, mse_within_p_av, mse_lr_av, mse_rf_av],\n",
        "            'prob': [sample_column_probs, test_column_probs],\n",
        "            'within_prob': [mse_list, sample_sizes, test_sizes, cancer_types],\n",
        "            'accuracy': [lr_sample, lr_x_test, rf_sample, rf_x_test],\n",
        "            'sample': sample}\n",
        "\n",
        "with open('/content/drive/My Drive/ST449 Project/evaluation/vanilla1.pickle', 'wb') as handle:\n",
        "    pickle.dump(vanilla1, handle, protocol=pickle.HIGHEST_PROTOCOL)\n"
      ],
      "execution_count": 0,
      "outputs": [
        {
          "output_type": "stream",
          "text": [
            "Restored from /content/drive/My Drive/ST449 Project/checkpoints/vanilla-4/G/ckpt-57\n"
          ],
          "name": "stdout"
        }
      ]
    },
    {
      "cell_type": "code",
      "metadata": {
        "id": "5NSaLlvQvs00",
        "colab_type": "code",
        "outputId": "e571a5a5-b9c4-492a-8c7d-fb11648b85b8",
        "colab": {
          "base_uri": "https://localhost:8080/",
          "height": 166
        }
      },
      "source": [
        "print('MSEs for Vanilla GAN with 1 Discriminator Layer')\n",
        "print('---------------------------------------------------')\n",
        "print('                    MSE for Probabilties: {:.6}'.format(np.mean(mse_p_av)))\n",
        "print('Weighted MSE Probabilties by Cancer Type: {:.6}'.format(np.mean([np.mean(i) for i in mse_within_p_av])))\n",
        "print('                     MSE for LR Accuracy: {:.6}'.format(np.mean(mse_lr_av)))\n",
        "print('                     MSE for RF Accuracy: {:.6}'.format(np.mean(mse_rf_av)))"
      ],
      "execution_count": 0,
      "outputs": [
        {
          "output_type": "stream",
          "text": [
            "\n",
            "MSEs for Vanilla GAN with 1 Discriminator Layer\n",
            "---------------------------------------------------\n",
            "                    MSE for Probabilties: 0.00692559\n",
            "Weighted MSE Probabilties by Cancer Type: 0.0399762\n",
            "                     MSE for LR Accuracy: 0.0519579\n",
            "                     MSE for RF Accuracy: 0.052775\n",
            "\n"
          ],
          "name": "stdout"
        }
      ]
    },
    {
      "cell_type": "code",
      "metadata": {
        "id": "a_uMlcM6uqti",
        "colab_type": "code",
        "colab": {}
      },
      "source": [
        "#Vanilla GAN \n",
        "#2 Discriminator Hidden Layer\n",
        "#6 places to specify GAN name\n",
        "vanilla2_samples = get_samples(Generator, variable_sizes, conditional = False, checkpoint_name='vanilla-3/', repress_warnings = True)\n",
        "\n",
        "mse_p_av = []\n",
        "mse_within_p_av = []\n",
        "mse_lr_av = []\n",
        "mse_rf_av = []\n",
        "num_samples = 0\n",
        "\n",
        "for i, sample in enumerate(vanilla2_samples):\n",
        "  mse_p, sample_column_probs, test_column_probs = compare_probs(sample, X_test)\n",
        "  mse_within_p, mse_list, sample_sizes, test_sizes, cancer_types = compare_within_site_probs(sample, X_test, conditional = False) \n",
        "  mse_lr, mse_rf, lr_sample, lr_x_test, rf_sample, rf_x_test = compare_accuracy(sample, X_test)\n",
        "\n",
        "  mse_p_av.append(mse_p)\n",
        "  mse_within_p_av.append(mse_within_p)\n",
        "  mse_lr_av.append(mse_lr)\n",
        "  mse_rf_av.append(mse_rf)\n",
        "  num_samples += 1\n",
        "\n",
        "\n",
        "vanilla2 = {'mse': [mse_p_av, mse_within_p_av, mse_lr_av, mse_rf_av],\n",
        "            'prob': [sample_column_probs, test_column_probs],\n",
        "            'within_prob': [mse_list, sample_sizes, test_sizes, cancer_types],\n",
        "            'accuracy': [lr_sample, lr_x_test, rf_sample, rf_x_test],\n",
        "            'sample': sample}\n",
        "\n",
        "with open('/content/drive/My Drive/ST449 Project/evaluation/vanilla2.pickle', 'wb') as handle:\n",
        "    pickle.dump(vanilla2, handle, protocol=pickle.HIGHEST_PROTOCOL)"
      ],
      "execution_count": 0,
      "outputs": []
    },
    {
      "cell_type": "code",
      "metadata": {
        "id": "EWMs4nrQpu-l",
        "colab_type": "code",
        "colab": {}
      },
      "source": [
        "with open('/content/drive/My Drive/ST449 Project/evaluation/wgan1.pickle', 'rb') as handle:\n",
        "    loaded = pickle.load(handle)"
      ],
      "execution_count": 0,
      "outputs": []
    },
    {
      "cell_type": "code",
      "metadata": {
        "id": "bXA-6jRJp4Qs",
        "colab_type": "code",
        "colab": {}
      },
      "source": [
        "mse_p_av = loaded['mse'][0]\n",
        "mse_within_p_av= loaded['mse'][1]\n",
        "mse_lr_av= loaded['mse'][2]\n",
        "mse_rf_av= loaded['mse'][3]"
      ],
      "execution_count": 0,
      "outputs": []
    },
    {
      "cell_type": "code",
      "metadata": {
        "id": "g6aJLBrJv1vJ",
        "colab_type": "code",
        "outputId": "0bbfc1a1-c4ac-492b-ab9b-7fb9ec8335a8",
        "colab": {
          "base_uri": "https://localhost:8080/",
          "height": 166
        }
      },
      "source": [
        "print('MSEs for Vanilla GAN with 2 Discriminator Layers')\n",
        "print('---------------------------------------------------')\n",
        "print('                    MSE for Probabilties: {:.6}'.format(np.mean(mse_p_av)))\n",
        "print('Weighted MSE Probabilties by Cancer Type: {:.6}'.format(np.mean(mse_within_p_av)))\n",
        "print('                     MSE for LR Accuracy: {:.6}'.format(np.mean(mse_lr_av)))\n",
        "print('                     MSE for RF Accuracy: {:.6}'.format(np.mean(mse_rf_av)))"
      ],
      "execution_count": 0,
      "outputs": [
        {
          "output_type": "stream",
          "text": [
            "\n",
            "MSEs for Vanilla GAN with 2 Discriminator Layers\n",
            "---------------------------------------------------\n",
            "                    MSE for Probabilties: 0.00385195\n",
            "Weighted MSE Probabilties by Cancer Type: 0.0285657\n",
            "                     MSE for LR Accuracy: 0.259183\n",
            "                     MSE for RF Accuracy: 0.251436\n",
            "\n"
          ],
          "name": "stdout"
        }
      ]
    },
    {
      "cell_type": "code",
      "metadata": {
        "id": "DGsR04GbJnAZ",
        "colab_type": "code",
        "outputId": "b91a8edc-9789-4163-b629-11c85fc4a21b",
        "colab": {
          "base_uri": "https://localhost:8080/",
          "height": 36
        }
      },
      "source": [
        "#WGAN \n",
        "#1 Discriminator Hidden Layer\n",
        "#6 places to specify GAN name\n",
        "wgan1_samples = get_samples(Generator, variable_sizes, conditional = False, checkpoint_name='wgan-2/', repress_warnings = True)\n",
        "\n",
        "mse_p_av = []\n",
        "mse_within_p_av = []\n",
        "mse_lr_av = []\n",
        "mse_rf_av = []\n",
        "num_samples = 0\n",
        "\n",
        "for i, sample in enumerate(wgan1_samples):\n",
        "  mse_p, sample_column_probs, test_column_probs = compare_probs(sample, X_test)\n",
        "  mse_within_p, mse_list, sample_sizes, test_sizes, cancer_types = compare_within_site_probs(sample, X_test, conditional = False) \n",
        "  mse_lr, mse_rf, lr_sample, lr_x_test, rf_sample, rf_x_test = compare_accuracy(sample, X_test)\n",
        "\n",
        "  mse_p_av.append(mse_p)\n",
        "  mse_within_p_av.append(mse_within_p)\n",
        "  mse_lr_av.append(mse_lr)\n",
        "  mse_rf_av.append(mse_rf)\n",
        "  num_samples += 1\n",
        "\n",
        "\n",
        "wgan1 = {'mse': [mse_p_av, mse_within_p_av, mse_lr_av, mse_rf_av],\n",
        "            'prob': [sample_column_probs, test_column_probs],\n",
        "            'within_prob': [mse_list, sample_sizes, test_sizes, cancer_types],\n",
        "            'accuracy': [lr_sample, lr_x_test, rf_sample, rf_x_test],\n",
        "            'sample': sample}\n",
        "\n",
        "with open('/content/drive/My Drive/ST449 Project/evaluation/wgan1.pickle', 'wb') as handle:\n",
        "    pickle.dump(wgan1, handle, protocol=pickle.HIGHEST_PROTOCOL)"
      ],
      "execution_count": 0,
      "outputs": [
        {
          "output_type": "stream",
          "text": [
            "Restored from /content/drive/My Drive/ST449 Project/checkpoints/wgan-2/G/ckpt-60\n"
          ],
          "name": "stdout"
        }
      ]
    },
    {
      "cell_type": "code",
      "metadata": {
        "id": "5Js2BQ5dv4la",
        "colab_type": "code",
        "outputId": "8ef945f6-4a85-4979-ad04-b8b3716b87d5",
        "colab": {
          "base_uri": "https://localhost:8080/",
          "height": 166
        }
      },
      "source": [
        "print('MSEs for WGAN with 1 Discriminator Layers')\n",
        "print('---------------------------------------------------')\n",
        "print('                    MSE for Probabilties: {:.6}'.format(np.mean(mse_p_av)))\n",
        "print('Weighted MSE Probabilties by Cancer Type: {:.6}'.format(np.mean(mse_within_p_av)))\n",
        "print('                     MSE for LR Accuracy: {:.6}'.format(np.mean(mse_lr_av)))\n",
        "print('                     MSE for RF Accuracy: {:.6}'.format(np.mean(mse_rf_av)))"
      ],
      "execution_count": 0,
      "outputs": [
        {
          "output_type": "stream",
          "text": [
            "\n",
            "MSEs for WGAN with 1 Discriminator Layers\n",
            "---------------------------------------------------\n",
            "                    MSE for Probabilties: 0.000336559\n",
            "Weighted MSE Probabilties by Cancer Type: 0.0232472\n",
            "                     MSE for LR Accuracy: 0.0340192\n",
            "                     MSE for RF Accuracy: 0.0349088\n",
            "\n"
          ],
          "name": "stdout"
        }
      ]
    },
    {
      "cell_type": "code",
      "metadata": {
        "id": "pkBNtQm-KM-X",
        "colab_type": "code",
        "outputId": "10df81f0-989f-4195-cde4-196ec4ab98ea",
        "colab": {
          "base_uri": "https://localhost:8080/",
          "height": 36
        }
      },
      "source": [
        "#WGAN \n",
        "#1 Discriminator Hidden Layer\n",
        "#6 places to specify GAN name\n",
        "wgan2_samples = get_samples(Generator, variable_sizes, conditional = False, checkpoint_name='wgan-1/', repress_warnings = True)\n",
        "\n",
        "mse_p_av = []\n",
        "mse_within_p_av = []\n",
        "mse_lr_av = []\n",
        "mse_rf_av = []\n",
        "num_samples = 0\n",
        "\n",
        "for i, sample in enumerate(wgan2_samples):\n",
        "  mse_p, sample_column_probs, test_column_probs = compare_probs(sample, X_test)\n",
        "  mse_within_p, mse_list, sample_sizes, test_sizes, cancer_types = compare_within_site_probs(sample, X_test, conditional = False) \n",
        "  mse_lr, mse_rf, lr_sample, lr_x_test, rf_sample, rf_x_test = compare_accuracy(sample, X_test)\n",
        "\n",
        "  mse_p_av.append(mse_p)\n",
        "  mse_within_p_av.append(mse_within_p)\n",
        "  mse_lr_av.append(mse_lr)\n",
        "  mse_rf_av.append(mse_rf)\n",
        "  num_samples += 1\n",
        "\n",
        "\n",
        "wgan2 = {'mse': [mse_p_av, mse_within_p_av, mse_lr_av, mse_rf_av],\n",
        "            'prob': [sample_column_probs, test_column_probs],\n",
        "            'within_prob': [mse_list, sample_sizes, test_sizes, cancer_types],\n",
        "            'accuracy': [lr_sample, lr_x_test, rf_sample, rf_x_test],\n",
        "            'sample': sample}\n",
        "\n",
        "with open('/content/drive/My Drive/ST449 Project/evaluation/wgan2.pickle', 'wb') as handle:\n",
        "    pickle.dump(wgan2, handle, protocol=pickle.HIGHEST_PROTOCOL)"
      ],
      "execution_count": 0,
      "outputs": [
        {
          "output_type": "stream",
          "text": [
            "Restored from /content/drive/My Drive/ST449 Project/checkpoints/wgan-1/G/ckpt-60\n"
          ],
          "name": "stdout"
        }
      ]
    },
    {
      "cell_type": "code",
      "metadata": {
        "id": "RuVeamwNOwy1",
        "colab_type": "code",
        "colab": {}
      },
      "source": [
        "wgan2_samples = get_samples(Generator, variable_sizes, conditional = False, checkpoint_name='wgan-1/', repress_warnings = True)\n",
        "mse_within_p_av = []\n",
        "for i, sample in enumerate(wgan2_samples):\n",
        "  mse_p, sample_column_probs, test_column_probs = compare_probs(sample, X_test)\n",
        "  mse_within_p, mse_list, sample_sizes, test_sizes, cancer_types = compare_within_site_probs(sample, X_test, conditional = False)\n",
        "  mse_within_p_av.append(mse_within_p) \n",
        "\n"
      ],
      "execution_count": 0,
      "outputs": []
    },
    {
      "cell_type": "code",
      "metadata": {
        "id": "Jnv54wdUv7Sf",
        "colab_type": "code",
        "outputId": "ac777643-a110-4b3a-e715-4ddf4d31d8ee",
        "colab": {
          "base_uri": "https://localhost:8080/",
          "height": 166
        }
      },
      "source": [
        "print('MSEs for WGAN with 2 Discriminator Layers')\n",
        "print('---------------------------------------------------------')\n",
        "print('                     MSE for Probabilties: {:.6}'.format(np.mean(mse_p_av)))\n",
        "print('Weighted MSE Probabilities by Cancer Type: {:.6}'.format(np.mean(mse_within_p_av)))\n",
        "print('                      MSE for LR Accuracy: {:.6}'.format(np.mean(mse_lr_av)))\n",
        "print('                      MSE for RF Accuracy: {:.6}'.format(np.mean(mse_rf_av)))"
      ],
      "execution_count": 0,
      "outputs": [
        {
          "output_type": "stream",
          "text": [
            "\n",
            "MSEs for WGAN with 2 Discriminator Layers\n",
            "-------------------------------------------------------\n",
            "                     MSE for Probabilties: 0.000363674\n",
            "Weighted MSE Probabilities by Cancer Type: 0.0158364\n",
            "                      MSE for LR Accuracy: 0.0244896\n",
            "                      MSE for RF Accuracy: 0.0251833\n",
            "\n"
          ],
          "name": "stdout"
        }
      ]
    },
    {
      "cell_type": "markdown",
      "metadata": {
        "id": "whtQvyvOKvQj",
        "colab_type": "text"
      },
      "source": [
        "### Conditional Generators"
      ]
    },
    {
      "cell_type": "code",
      "metadata": {
        "id": "aRGU8AX5Kuaq",
        "colab_type": "code",
        "outputId": "e0399884-9756-4a6f-ff0f-2763e39dc85d",
        "colab": {
          "base_uri": "https://localhost:8080/",
          "height": 54
        }
      },
      "source": [
        "#re-prepare the data\n",
        "np.random.seed(123)\n",
        "test_df = df.drop(['TUMOURID', 'PATIENTID', 'DIAGNOSISDATEBEST', 'LINKNUMBER', 'DATE_FIRST_SURGERY'], axis=1).iloc[np.random.permutation(len(df))].iloc[:round(len(df)*0.2)]\n",
        "test_df[test_df.isna()]= \"NA\"\n",
        "X_train, X_test = train_test_split(test_df, test_size=0.1, random_state=42)\n",
        "\n",
        "cols = list(X_train)\n",
        "cols[1], cols[0] = cols[0], cols[1]\n",
        "X_train = X_train[cols]\n",
        "\n",
        "ohe = OneHotEncoder(sparse=False)\n",
        "ohe.fit(X_train)\n",
        "ohe_df = ohe.transform(X_train)\n",
        "\n",
        "cols = list(X_test)\n",
        "cols[1], cols[0] = cols[0], cols[1]\n",
        "X_test = X_test[cols]\n",
        "\n",
        "variable_sizes = [len(X_train[column].unique()) for column in X_train.columns]\n",
        "print(variable_sizes)\n",
        "\n",
        "#remove rows that contain values that do not occur in X_train\n",
        "for column in X_test.columns:\n",
        "  X_test = X_test[X_test[column].isin(X_train[column].unique())]\n",
        "\n",
        "print([len(X_test[column].unique()) for column in X_test.columns])\n",
        "\n",
        "#get site mapping\n",
        "ohe_mapper = ohe.transform(X_test)[:, :116]\n",
        "X_mapper = X_test.reset_index()\n",
        "site_mapping = {}\n",
        "\n",
        "for site in X_mapper['SITE_ICD10_O2_3CHAR'].unique():\n",
        "  site_mapping[site] = ohe_mapper[X_mapper[X_mapper['SITE_ICD10_O2_3CHAR'] == site].iloc[0:1].index[0],:]"
      ],
      "execution_count": 0,
      "outputs": [
        {
          "output_type": "stream",
          "text": [
            "[116, 526, 405, 9, 40, 18, 8, 35, 8, 6, 100, 2, 8, 33, 7, 10, 7, 10, 6, 7, 11, 13, 9, 6, 6, 4, 8, 7, 5]\n",
            "[111, 412, 294, 9, 33, 16, 7, 33, 7, 6, 99, 2, 8, 23, 7, 9, 7, 9, 6, 7, 11, 11, 9, 5, 5, 4, 7, 7, 5]\n"
          ],
          "name": "stdout"
        }
      ]
    },
    {
      "cell_type": "code",
      "metadata": {
        "id": "DFx45fdINPg5",
        "colab_type": "code",
        "outputId": "5c0dafc8-ffe2-4d2c-951f-2fe8f2d5b465",
        "colab": {
          "base_uri": "https://localhost:8080/",
          "height": 36
        }
      },
      "source": [
        "#c-Vanilla GAN \n",
        "#1 Discriminator Hidden Layer\n",
        "#6 places to specify GAN name\n",
        "c_vanilla1_samples = get_samples(Generator, variable_sizes[1:], conditional = True, checkpoint_name='c-vanilla-3/', repress_warnings = True)\n",
        "\n",
        "mse_p_av = []\n",
        "mse_within_p_av = []\n",
        "mse_lr_av = []\n",
        "mse_rf_av = []\n",
        "num_samples = 0\n",
        "\n",
        "for i, sample in enumerate(c_vanilla1_samples):\n",
        "  mse_p, sample_column_probs, test_column_probs = compare_probs(sample, X_test)\n",
        "  mse_within_p, mse_list, sample_sizes, test_sizes, cancer_types = compare_within_site_probs(sample, X_test, conditional = True) \n",
        "  mse_lr, mse_rf, lr_sample, lr_x_test, rf_sample, rf_x_test = compare_accuracy(sample, X_test)\n",
        "\n",
        "  mse_p_av.append(mse_p)\n",
        "  mse_within_p_av.append(mse_within_p)\n",
        "  mse_lr_av.append(mse_lr)\n",
        "  mse_rf_av.append(mse_rf)\n",
        "  num_samples += 1\n",
        "\n",
        "\n",
        "c_vanilla1 = {'mse': [mse_p_av, mse_within_p_av, mse_lr_av, mse_rf_av],\n",
        "            'prob': [sample_column_probs, test_column_probs],\n",
        "            'within_prob': [mse_list, sample_sizes, test_sizes, cancer_types],\n",
        "            'accuracy': [lr_sample, lr_x_test, rf_sample, rf_x_test],\n",
        "            'sample': sample}\n",
        "\n",
        "with open('/content/drive/My Drive/ST449 Project/evaluation/c_vanilla1.pickle', 'wb') as handle:\n",
        "    pickle.dump(c_vanilla1, handle, protocol=pickle.HIGHEST_PROTOCOL)"
      ],
      "execution_count": 0,
      "outputs": [
        {
          "output_type": "stream",
          "text": [
            "Restored from /content/drive/My Drive/ST449 Project/checkpoints/c-vanilla-3/G/ckpt-26\n"
          ],
          "name": "stdout"
        }
      ]
    },
    {
      "cell_type": "code",
      "metadata": {
        "id": "z4WnisuoBgZx",
        "colab_type": "code",
        "outputId": "79b294ec-baf3-4a10-8ec6-d759dca2d9c7",
        "colab": {
          "base_uri": "https://localhost:8080/",
          "height": 166
        }
      },
      "source": [
        "print('MSEs for Conditonal Vanilla with 1 Discriminator Layers')\n",
        "print('---------------------------------------------------------')\n",
        "print('                     MSE for Probabilties: {:.6}'.format(np.mean(mse_p_av)))\n",
        "print('Weighted MSE Probabilities by Cancer Type: {:.6}'.format(np.mean(mse_within_p_av)))\n",
        "print('                      MSE for LR Accuracy: {:.6}'.format(np.mean(mse_lr_av)))\n",
        "print('                      MSE for RF Accuracy: {:.6}'.format(np.mean(mse_rf_av)))"
      ],
      "execution_count": 0,
      "outputs": [
        {
          "output_type": "stream",
          "text": [
            "\n",
            "MSEs for Conditonal Vanilla with 1 Discriminator Layers\n",
            "---------------------------------------------------------\n",
            "                     MSE for Probabilties: 0.00852635\n",
            "Weighted MSE Probabilities by Cancer Type: 0.0521075\n",
            "                      MSE for LR Accuracy: 0.275968\n",
            "                      MSE for RF Accuracy: 0.294099\n",
            "\n"
          ],
          "name": "stdout"
        }
      ]
    },
    {
      "cell_type": "code",
      "metadata": {
        "id": "JHUrd7UHNacP",
        "colab_type": "code",
        "outputId": "85e05555-5823-4314-f010-492803644009",
        "colab": {
          "base_uri": "https://localhost:8080/",
          "height": 36
        }
      },
      "source": [
        "#c-Vanilla GAN \n",
        "#2 Discriminator Hidden Layer\n",
        "#6 places to specify GAN name\n",
        "c_vanilla2_samples = get_samples(Generator, variable_sizes[1:], conditional = True, checkpoint_name='c-vanilla-2d2/', repress_warnings = True)\n",
        "\n",
        "mse_p_av = []\n",
        "mse_within_p_av = []\n",
        "mse_lr_av = []\n",
        "mse_rf_av = []\n",
        "num_samples = 0\n",
        "\n",
        "for i, sample in enumerate(c_vanilla2_samples):\n",
        "  mse_p, sample_column_probs, test_column_probs = compare_probs(sample, X_test)\n",
        "  mse_within_p, mse_list, sample_sizes, test_sizes, cancer_types = compare_within_site_probs(sample, X_test, conditional = True) \n",
        "  mse_lr, mse_rf, lr_sample, lr_x_test, rf_sample, rf_x_test = compare_accuracy(sample, X_test)\n",
        "\n",
        "  mse_p_av.append(mse_p)\n",
        "  mse_within_p_av.append(mse_within_p)\n",
        "  mse_lr_av.append(mse_lr)\n",
        "  mse_rf_av.append(mse_rf)\n",
        "  num_samples += 1\n",
        "\n",
        "\n",
        "c_vanilla2 = {'mse': [mse_p_av, mse_within_p_av, mse_lr_av, mse_rf_av],\n",
        "            'prob': [sample_column_probs, test_column_probs],\n",
        "            'within_prob': [mse_list, sample_sizes, test_sizes, cancer_types],\n",
        "            'accuracy': [lr_sample, lr_x_test, rf_sample, rf_x_test],\n",
        "            'sample': sample}\n",
        "\n",
        "with open('/content/drive/My Drive/ST449 Project/evaluation/c_vanilla2.pickle', 'wb') as handle:\n",
        "    pickle.dump(c_vanilla2, handle, protocol=pickle.HIGHEST_PROTOCOL)"
      ],
      "execution_count": 0,
      "outputs": [
        {
          "output_type": "stream",
          "text": [
            "Restored from /content/drive/My Drive/ST449 Project/checkpoints/c-vanilla-2d2/G/ckpt-60\n"
          ],
          "name": "stdout"
        }
      ]
    },
    {
      "cell_type": "code",
      "metadata": {
        "id": "QOM_aTHkBqVM",
        "colab_type": "code",
        "outputId": "a0ffad21-4f6b-443c-c71b-ae415915bbf3",
        "colab": {
          "base_uri": "https://localhost:8080/",
          "height": 166
        }
      },
      "source": [
        "print('MSEs for Conditonal Vanilla with 2 Discriminator Layers')\n",
        "print('---------------------------------------------------------')\n",
        "print('                     MSE for Probabilties: {:.6}'.format(np.mean(mse_p_av)))\n",
        "print('Weighted MSE Probabilities by Cancer Type: {:.6}'.format(np.mean(mse_within_p_av)))\n",
        "print('                      MSE for LR Accuracy: {:.6}'.format(np.mean(mse_lr_av)))\n",
        "print('                      MSE for RF Accuracy: {:.6}'.format(np.mean(mse_rf_av)))"
      ],
      "execution_count": 0,
      "outputs": [
        {
          "output_type": "stream",
          "text": [
            "\n",
            "MSEs for Conditonal Vanilla with 2 Discriminator Layers\n",
            "---------------------------------------------------------\n",
            "                     MSE for Probabilties: 0.00800333\n",
            "Weighted MSE Probabilities by Cancer Type: 0.0444197\n",
            "                      MSE for LR Accuracy: 0.144916\n",
            "                      MSE for RF Accuracy: 0.150394\n",
            "\n"
          ],
          "name": "stdout"
        }
      ]
    },
    {
      "cell_type": "code",
      "metadata": {
        "id": "-RudyykjNDvh",
        "colab_type": "code",
        "colab": {}
      },
      "source": [
        "#c-WGAN \n",
        "#1 Discriminator Hidden Layer\n",
        "#6 places to specify GAN name\n",
        "c_wgan1_samples = get_samples(Generator, variable_sizes[1:], conditional = True, checkpoint_name='c-wgan-3/', repress_warnings = True)\n",
        "\n",
        "mse_p_av = []\n",
        "mse_within_p_av = []\n",
        "mse_lr_av = []\n",
        "mse_rf_av = []\n",
        "num_samples = 0\n",
        "\n",
        "for i, sample in enumerate(c_wgan1_samples):\n",
        "  mse_p, sample_column_probs, test_column_probs = compare_probs(sample, X_test)\n",
        "  mse_within_p, mse_list, sample_sizes, test_sizes, cancer_types = compare_within_site_probs(sample, X_test, conditional = True) \n",
        "  mse_lr, mse_rf, lr_sample, lr_x_test, rf_sample, rf_x_test = compare_accuracy(sample, X_test)\n",
        "\n",
        "  mse_p_av.append(mse_p)\n",
        "  mse_within_p_av.append(mse_within_p)\n",
        "  mse_lr_av.append(mse_lr)\n",
        "  mse_rf_av.append(mse_rf)\n",
        "  num_samples += 1\n",
        "\n",
        "\n",
        "c_wgan1 = {'mse': [mse_p_av, mse_within_p_av, mse_lr_av, mse_rf_av],\n",
        "            'prob': [sample_column_probs, test_column_probs],\n",
        "            'within_prob': [mse_list, sample_sizes, test_sizes, cancer_types],\n",
        "            'accuracy': [lr_sample, lr_x_test, rf_sample, rf_x_test],\n",
        "            'sample': sample}\n",
        "\n",
        "with open('/content/drive/My Drive/ST449 Project/evaluation/c_wgan1.pickle', 'wb') as handle:\n",
        "    pickle.dump(c_wgan1, handle, protocol=pickle.HIGHEST_PROTOCOL)"
      ],
      "execution_count": 0,
      "outputs": []
    },
    {
      "cell_type": "code",
      "metadata": {
        "id": "tydIq2D6By--",
        "colab_type": "code",
        "outputId": "30ad43e1-89b1-4e69-e7b2-58b02d62491d",
        "colab": {
          "base_uri": "https://localhost:8080/",
          "height": 166
        }
      },
      "source": [
        "print('MSEs for Conditonal WGAN with 1 Discriminator Layers')\n",
        "print('---------------------------------------------------------')\n",
        "print('                     MSE for Probabilties: {:.6}'.format(np.mean(mse_p_av)))\n",
        "print('Weighted MSE Probabilities by Cancer Type: {:.6}'.format(np.mean(mse_within_p_av)))\n",
        "print('                      MSE for LR Accuracy: {:.6}'.format(np.mean(mse_lr_av)))\n",
        "print('                      MSE for RF Accuracy: {:.6}'.format(np.mean(mse_rf_av)))"
      ],
      "execution_count": 0,
      "outputs": [
        {
          "output_type": "stream",
          "text": [
            "\n",
            "MSEs for Conditonal WGAN with 1 Discriminator Layers\n",
            "---------------------------------------------------------\n",
            "                     MSE for Probabilties: 0.000475133\n",
            "Weighted MSE Probabilities by Cancer Type: 0.00795714\n",
            "                      MSE for LR Accuracy: 0.0239637\n",
            "                      MSE for RF Accuracy: 0.0245771\n",
            "\n"
          ],
          "name": "stdout"
        }
      ]
    },
    {
      "cell_type": "code",
      "metadata": {
        "id": "6S3NhrVeLhGj",
        "colab_type": "code",
        "outputId": "879854f4-142d-49aa-e10a-f118fe4a963b",
        "colab": {
          "base_uri": "https://localhost:8080/",
          "height": 36
        }
      },
      "source": [
        "#c-WGAN \n",
        "#2 Discriminator Hidden Layer\n",
        "#6 places to specify GAN name\n",
        "c_wgan2_samples = get_samples(Generator, variable_sizes[1:], conditional = True, checkpoint_name='c-wgan-2d2/', repress_warnings = True)\n",
        "\n",
        "mse_p_av = []\n",
        "mse_within_p_av = []\n",
        "mse_lr_av = []\n",
        "mse_rf_av = []\n",
        "num_samples = 0\n",
        "\n",
        "for i, sample in enumerate(c_wgan2_samples):\n",
        "  mse_p, sample_column_probs, test_column_probs = compare_probs(sample, X_test)\n",
        "  mse_within_p, mse_list, sample_sizes, test_sizes, cancer_types = compare_within_site_probs(sample, X_test, conditional = True) \n",
        "  mse_lr, mse_rf, lr_sample, lr_x_test, rf_sample, rf_x_test = compare_accuracy(sample, X_test)\n",
        "\n",
        "  mse_p_av.append(mse_p)\n",
        "  mse_within_p_av.append(mse_within_p)\n",
        "  mse_lr_av.append(mse_lr)\n",
        "  mse_rf_av.append(mse_rf)\n",
        "  num_samples += 1\n",
        "\n",
        "\n",
        "c_wgan2 = {'mse': [mse_p_av, mse_within_p_av, mse_lr_av, mse_rf_av],\n",
        "            'prob': [sample_column_probs, test_column_probs],\n",
        "            'within_prob': [mse_list, sample_sizes, test_sizes, cancer_types],\n",
        "            'accuracy': [lr_sample, lr_x_test, rf_sample, rf_x_test],\n",
        "            'sample': sample}\n",
        "\n",
        "with open('/content/drive/My Drive/ST449 Project/evaluation/c_wgan2.pickle', 'wb') as handle:\n",
        "    pickle.dump(c_wgan2, handle, protocol=pickle.HIGHEST_PROTOCOL)"
      ],
      "execution_count": 0,
      "outputs": [
        {
          "output_type": "stream",
          "text": [
            "Restored from /content/drive/My Drive/ST449 Project/checkpoints/c-wgan-2d2/G/ckpt-60\n"
          ],
          "name": "stdout"
        }
      ]
    },
    {
      "cell_type": "code",
      "metadata": {
        "id": "V6NI0mIUB86z",
        "colab_type": "code",
        "outputId": "9214c4d6-d280-48b4-fec1-1c122fae1e0e",
        "colab": {
          "base_uri": "https://localhost:8080/",
          "height": 166
        }
      },
      "source": [
        "print('MSEs for Conditonal WGAN with 2 Discriminator Layers')\n",
        "print('---------------------------------------------------------')\n",
        "print('                     MSE for Probabilties: {:.6}'.format(np.mean(mse_p_av)))\n",
        "print('Weighted MSE Probabilities by Cancer Type: {:.6}'.format(np.mean(mse_within_p_av)))\n",
        "print('                      MSE for LR Accuracy: {:.6}'.format(np.mean(mse_lr_av)))\n",
        "print('                      MSE for RF Accuracy: {:.6}'.format(np.mean(mse_rf_av)))"
      ],
      "execution_count": 0,
      "outputs": [
        {
          "output_type": "stream",
          "text": [
            "\n",
            "MSEs for Conditonal WGAN with 2 Discriminator Layers\n",
            "---------------------------------------------------------\n",
            "                     MSE for Probabilties: 0.000141389\n",
            "Weighted MSE Probabilities by Cancer Type: 0.00413341\n",
            "                      MSE for LR Accuracy: 0.0106915\n",
            "                      MSE for RF Accuracy: 0.0139164\n",
            "                      \n"
          ],
          "name": "stdout"
        }
      ]
    },
    {
      "cell_type": "code",
      "metadata": {
        "id": "Jk7m4BCMs3C-",
        "colab_type": "code",
        "outputId": "e3df03a5-c2d4-454b-9416-2aa9653daefb",
        "colab": {
          "base_uri": "https://localhost:8080/",
          "height": 36
        }
      },
      "source": [
        "#c-WGAN extended\n",
        "#2 Discriminator Hidden Layer\n",
        "#6 places to specify GAN name\n",
        "c_wgan2_ext_samples = get_samples(cGenerator, variable_sizes[1:], conditional = True, checkpoint_name='c-wgan-ext2/', repress_warnings = True)\n",
        "\n",
        "mse_p_av = []\n",
        "mse_within_p_av = []\n",
        "mse_lr_av = []\n",
        "mse_rf_av = []\n",
        "num_samples = 0\n",
        "\n",
        "for i, sample in enumerate(c_wgan2_ext_samples):\n",
        "  mse_p, sample_column_probs, test_column_probs = compare_probs(sample, X_test)\n",
        "  mse_within_p, mse_list, sample_sizes, test_sizes, cancer_types = compare_within_site_probs(sample, X_test, conditional = True) \n",
        "  mse_lr, mse_rf, lr_sample, lr_x_test, rf_sample, rf_x_test = compare_accuracy(sample, X_test)\n",
        "\n",
        "  mse_p_av.append(mse_p)\n",
        "  mse_within_p_av.append(mse_within_p)\n",
        "  mse_lr_av.append(mse_lr)\n",
        "  mse_rf_av.append(mse_rf)\n",
        "  num_samples += 1\n",
        "\n",
        "\n",
        "c_wgan2_ext = {'mse': [mse_p_av, mse_within_p_av, mse_lr_av, mse_rf_av],\n",
        "            'prob': [sample_column_probs, test_column_probs],\n",
        "            'within_prob': [mse_list, sample_sizes, test_sizes, cancer_types],\n",
        "            'accuracy': [lr_sample, lr_x_test, rf_sample, rf_x_test],\n",
        "            'sample': sample}\n",
        "\n",
        "with open('/content/drive/My Drive/ST449 Project/evaluation/c_wgan2_ext.pickle', 'wb') as handle:\n",
        "    pickle.dump(c_wgan2_ext, handle, protocol=pickle.HIGHEST_PROTOCOL)"
      ],
      "execution_count": 0,
      "outputs": [
        {
          "output_type": "stream",
          "text": [
            "Restored from /content/drive/My Drive/ST449 Project/checkpoints/c-wgan-ext2/G/ckpt-60\n"
          ],
          "name": "stdout"
        }
      ]
    },
    {
      "cell_type": "code",
      "metadata": {
        "id": "9csdooNrtBrn",
        "colab_type": "code",
        "outputId": "725d75b3-efdf-4a78-cecd-7f05bcab2c02",
        "colab": {
          "base_uri": "https://localhost:8080/",
          "height": 129
        }
      },
      "source": [
        "print('MSEs for Extended Conditonal WGAN with 2 Discriminator Layers')\n",
        "print('---------------------------------------------------------------')\n",
        "print('                     MSE for Probabilties: {:.6}'.format(np.mean(mse_p_av)))\n",
        "print('Weighted MSE Probabilities by Cancer Type: {:.6}'.format(np.mean(mse_within_p_av)))\n",
        "print('                      MSE for LR Accuracy: {:.6}'.format(np.mean(mse_lr_av)))\n",
        "print('                      MSE for RF Accuracy: {:.6}'.format(np.mean(mse_rf_av)))"
      ],
      "execution_count": 0,
      "outputs": [
        {
          "output_type": "stream",
          "text": [
            "MSEs for Extended Conditonal WGAN with 2 Discriminator Layers\n",
            "---------------------------------------------------------------\n",
            "                     MSE for Probabilties: 0.000111725\n",
            "Weighted MSE Probabilities by Cancer Type: 0.076191\n",
            "                      MSE for LR Accuracy: 0.0130744\n",
            "                      MSE for RF Accuracy: 0.0157422\n"
          ],
          "name": "stdout"
        }
      ]
    }
  ]
}
